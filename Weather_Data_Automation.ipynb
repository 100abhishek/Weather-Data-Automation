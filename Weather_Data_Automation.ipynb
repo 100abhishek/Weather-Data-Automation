{
  "cells": [
    {
      "cell_type": "markdown",
      "metadata": {
        "id": "view-in-github",
        "colab_type": "text"
      },
      "source": [
        "<a href=\"https://colab.research.google.com/github/100abhishek/Weather-Data-Automation/blob/main/Weather_Data_Automation.ipynb\" target=\"_parent\"><img src=\"https://colab.research.google.com/assets/colab-badge.svg\" alt=\"Open In Colab\"/></a>"
      ]
    },
    {
      "cell_type": "code",
      "execution_count": 15,
      "id": "07dbda0b-1c23-449f-8177-438f704dac32",
      "metadata": {
        "id": "07dbda0b-1c23-449f-8177-438f704dac32"
      },
      "outputs": [],
      "source": [
        "import requests\n",
        "from bs4 import BeautifulSoup\n"
      ]
    },
    {
      "cell_type": "code",
      "execution_count": 16,
      "id": "312294b1-56a1-4a28-8385-c8a39cc43d7a",
      "metadata": {
        "id": "312294b1-56a1-4a28-8385-c8a39cc43d7a"
      },
      "outputs": [],
      "source": [
        "city = \"lucknow\""
      ]
    },
    {
      "cell_type": "code",
      "execution_count": 17,
      "id": "3f9c0702-b41d-4c12-98f3-e0087901eb59",
      "metadata": {
        "id": "3f9c0702-b41d-4c12-98f3-e0087901eb59"
      },
      "outputs": [],
      "source": [
        "url = \"https://www.google.com/search?q=\" + \"weather\" + city\n",
        "html = requests.get(url).content"
      ]
    },
    {
      "cell_type": "code",
      "execution_count": 18,
      "id": "4f5c92e0-a252-40a8-8eac-dcaaa9e53d73",
      "metadata": {
        "id": "4f5c92e0-a252-40a8-8eac-dcaaa9e53d73"
      },
      "outputs": [],
      "source": [
        "soup = BeautifulSoup(html, 'html.parser')"
      ]
    },
    {
      "cell_type": "code",
      "execution_count": 19,
      "id": "5da4d1bb-a9b2-4a04-8982-802bbcb62c0f",
      "metadata": {
        "id": "5da4d1bb-a9b2-4a04-8982-802bbcb62c0f"
      },
      "outputs": [],
      "source": [
        "temp = soup.find('div', attrs={'class': 'BNeawe iBp4i AP7Wnd'}).text"
      ]
    },
    {
      "cell_type": "code",
      "execution_count": 20,
      "id": "470b4c98-b6e8-4f42-8556-c75244b9faf4",
      "metadata": {
        "id": "470b4c98-b6e8-4f42-8556-c75244b9faf4"
      },
      "outputs": [],
      "source": [
        "str_ = soup.find('div', attrs={'class': 'BNeawe tAd8D AP7Wnd'}).text\n",
        "data = str_.split('\\n')\n",
        "time = data[0]\n",
        "sky = data[1]"
      ]
    },
    {
      "cell_type": "code",
      "execution_count": 21,
      "id": "ecffc639-106b-4c06-89ef-e1d5f836ce60",
      "metadata": {
        "id": "ecffc639-106b-4c06-89ef-e1d5f836ce60"
      },
      "outputs": [],
      "source": [
        "listdiv = soup.findAll('div', attrs={'class': 'BNeawe s3v9rd AP7Wnd'})"
      ]
    },
    {
      "cell_type": "code",
      "execution_count": 22,
      "id": "dcda54a8-55aa-428d-9067-f2b541515a21",
      "metadata": {
        "id": "dcda54a8-55aa-428d-9067-f2b541515a21"
      },
      "outputs": [],
      "source": [
        "strd = listdiv[5].text\n",
        "pos = strd.find('Wind')\n",
        "other_data = strd[pos:]\n"
      ]
    },
    {
      "cell_type": "code",
      "execution_count": 23,
      "id": "3b1742b6-8fff-4708-8a2b-45749404330b",
      "metadata": {
        "id": "3b1742b6-8fff-4708-8a2b-45749404330b",
        "outputId": "b4a4cf9e-2bfe-46ae-d90a-108ffd1498e7",
        "colab": {
          "base_uri": "https://localhost:8080/"
        }
      },
      "outputs": [
        {
          "output_type": "stream",
          "name": "stdout",
          "text": [
            "Temperature is: 71°F\n",
            "Time: Friday 1:17 PM\n",
            "Sky Description: Sunny\n",
            ".\n"
          ]
        }
      ],
      "source": [
        "print(\"Temperature is:\", temp)\n",
        "print(\"Time:\", time)\n",
        "print(\"Sky Description:\", sky)\n",
        "print(other_data)"
      ]
    },
    {
      "cell_type": "code",
      "execution_count": 24,
      "id": "d602a2d1-8394-46de-abfc-a69efc2b12d1",
      "metadata": {
        "id": "d602a2d1-8394-46de-abfc-a69efc2b12d1"
      },
      "outputs": [],
      "source": [
        "import requests"
      ]
    },
    {
      "cell_type": "code",
      "execution_count": 25,
      "id": "58f6630c-82ad-4cce-8bfa-faeb0213a99c",
      "metadata": {
        "id": "58f6630c-82ad-4cce-8bfa-faeb0213a99c"
      },
      "outputs": [],
      "source": [
        "res = requests.get('https://ipinfo.io/')\n",
        "data = res.json()"
      ]
    },
    {
      "cell_type": "code",
      "execution_count": 26,
      "id": "0d676237-d8ac-4887-965e-54da3aae6a14",
      "metadata": {
        "id": "0d676237-d8ac-4887-965e-54da3aae6a14",
        "outputId": "c8876cf9-4353-46df-c728-f3b95eb26d9d",
        "colab": {
          "base_uri": "https://localhost:8080/"
        }
      },
      "outputs": [
        {
          "output_type": "stream",
          "name": "stdout",
          "text": [
            "Current Location: Washington\n"
          ]
        }
      ],
      "source": [
        "citydata = data['city']\n",
        "print(\"Current Location:\", citydata)"
      ]
    },
    {
      "cell_type": "code",
      "execution_count": 27,
      "id": "ab87d106-ceea-42b8-b423-4f9d822a63e6",
      "metadata": {
        "id": "ab87d106-ceea-42b8-b423-4f9d822a63e6"
      },
      "outputs": [],
      "source": [
        "url = 'https://wttr.in/{}'.format(citydata)\n",
        "res = requests.get(url)"
      ]
    },
    {
      "cell_type": "code",
      "execution_count": 28,
      "id": "e2a953b9-ca3c-4cab-a36f-e07b80c4f5f4",
      "metadata": {
        "id": "e2a953b9-ca3c-4cab-a36f-e07b80c4f5f4",
        "outputId": "9b3477b4-f114-40a2-d29e-275d4755234f",
        "colab": {
          "base_uri": "https://localhost:8080/"
        }
      },
      "outputs": [
        {
          "output_type": "stream",
          "name": "stdout",
          "text": [
            "Weather report: Washington\n",
            "\n",
            "  \u001b[38;5;226m   \\  /\u001b[0m       Partly cloudy\n",
            "  \u001b[38;5;226m _ /\"\"\u001b[38;5;250m.-.    \u001b[0m \u001b[38;5;049m+35\u001b[0m(\u001b[38;5;051m30\u001b[0m) °F\u001b[0m     \n",
            "  \u001b[38;5;226m   \\_\u001b[38;5;250m(   ).  \u001b[0m \u001b[1m↘\u001b[0m \u001b[38;5;154m5\u001b[0m mph\u001b[0m        \n",
            "  \u001b[38;5;226m   /\u001b[38;5;250m(___(__) \u001b[0m 9 mi\u001b[0m           \n",
            "                0.0 in\u001b[0m         \n",
            "                                                       ┌─────────────┐                                                       \n",
            "┌──────────────────────────────┬───────────────────────┤  Thu 12 Dec ├───────────────────────┬──────────────────────────────┐\n",
            "│            Morning           │             Noon      └──────┬──────┘     Evening           │             Night            │\n",
            "├──────────────────────────────┼──────────────────────────────┼──────────────────────────────┼──────────────────────────────┤\n",
            "│ \u001b[38;5;226m    \\   /    \u001b[0m Sunny          │ \u001b[38;5;226m    \\   /    \u001b[0m Sunny          │               Overcast       │ \u001b[38;5;226m    \\   /    \u001b[0m Clear          │\n",
            "│ \u001b[38;5;226m     .-.     \u001b[0m \u001b[38;5;050m+33\u001b[0m(\u001b[38;5;051m26\u001b[0m) °F\u001b[0m     │ \u001b[38;5;226m     .-.     \u001b[0m \u001b[38;5;047m+42\u001b[0m(\u001b[38;5;049m35\u001b[0m) °F\u001b[0m     │ \u001b[38;5;240;1m     .--.    \u001b[0m \u001b[38;5;049m+37\u001b[0m(\u001b[38;5;050m32\u001b[0m) °F\u001b[0m     │ \u001b[38;5;226m     .-.     \u001b[0m \u001b[38;5;050m+33\u001b[0m(\u001b[38;5;051m30\u001b[0m) °F\u001b[0m     │\n",
            "│ \u001b[38;5;226m  ― (   ) ―  \u001b[0m \u001b[1m↗\u001b[0m \u001b[38;5;226m9\u001b[0m-\u001b[38;5;214m13\u001b[0m mph\u001b[0m     │ \u001b[38;5;226m  ― (   ) ―  \u001b[0m \u001b[1m→\u001b[0m \u001b[38;5;214m12\u001b[0m-\u001b[38;5;214m14\u001b[0m mph\u001b[0m    │ \u001b[38;5;240;1m  .-(    ).  \u001b[0m \u001b[1m↘\u001b[0m \u001b[38;5;226m8\u001b[0m-\u001b[38;5;214m12\u001b[0m mph\u001b[0m     │ \u001b[38;5;226m  ― (   ) ―  \u001b[0m \u001b[1m↘\u001b[0m \u001b[38;5;190m6\u001b[0m-\u001b[38;5;220m9\u001b[0m mph\u001b[0m      │\n",
            "│ \u001b[38;5;226m     `-’     \u001b[0m 6 mi\u001b[0m           │ \u001b[38;5;226m     `-’     \u001b[0m 6 mi\u001b[0m           │ \u001b[38;5;240;1m (___.__)__) \u001b[0m 6 mi\u001b[0m           │ \u001b[38;5;226m     `-’     \u001b[0m 6 mi\u001b[0m           │\n",
            "│ \u001b[38;5;226m    /   \\    \u001b[0m 0.0 in | 0%\u001b[0m    │ \u001b[38;5;226m    /   \\    \u001b[0m 0.0 in | 0%\u001b[0m    │               0.0 in | 0%\u001b[0m    │ \u001b[38;5;226m    /   \\    \u001b[0m 0.0 in | 0%\u001b[0m    │\n",
            "└──────────────────────────────┴──────────────────────────────┴──────────────────────────────┴──────────────────────────────┘\n",
            "                                                       ┌─────────────┐                                                       \n",
            "┌──────────────────────────────┬───────────────────────┤  Fri 13 Dec ├───────────────────────┬──────────────────────────────┐\n",
            "│            Morning           │             Noon      └──────┬──────┘     Evening           │             Night            │\n",
            "├──────────────────────────────┼──────────────────────────────┼──────────────────────────────┼──────────────────────────────┤\n",
            "│ \u001b[38;5;226m    \\   /    \u001b[0m Sunny          │ \u001b[38;5;226m    \\   /    \u001b[0m Sunny          │               Overcast       │ \u001b[38;5;226m   \\  /\u001b[0m       Partly Cloudy  │\n",
            "│ \u001b[38;5;226m     .-.     \u001b[0m \u001b[38;5;050m32\u001b[0m °F\u001b[0m          │ \u001b[38;5;226m     .-.     \u001b[0m \u001b[38;5;048m+39\u001b[0m(\u001b[38;5;049m37\u001b[0m) °F\u001b[0m     │ \u001b[38;5;240;1m     .--.    \u001b[0m \u001b[38;5;048m+39\u001b[0m(\u001b[38;5;049m35\u001b[0m) °F\u001b[0m     │ \u001b[38;5;226m _ /\"\"\u001b[38;5;250m.-.    \u001b[0m \u001b[38;5;050m+33\u001b[0m(\u001b[38;5;051m26\u001b[0m) °F\u001b[0m     │\n",
            "│ \u001b[38;5;226m  ― (   ) ―  \u001b[0m \u001b[1m←\u001b[0m \u001b[38;5;082m0\u001b[0m-\u001b[38;5;082m1\u001b[0m mph\u001b[0m      │ \u001b[38;5;226m  ― (   ) ―  \u001b[0m \u001b[1m↙\u001b[0m \u001b[38;5;082m1\u001b[0m-\u001b[38;5;118m2\u001b[0m mph\u001b[0m      │ \u001b[38;5;240;1m  .-(    ).  \u001b[0m \u001b[1m↙\u001b[0m \u001b[38;5;118m3\u001b[0m-\u001b[38;5;154m5\u001b[0m mph\u001b[0m      │ \u001b[38;5;226m   \\_\u001b[38;5;250m(   ).  \u001b[0m \u001b[1m↙\u001b[0m \u001b[38;5;154m4\u001b[0m-\u001b[38;5;190m7\u001b[0m mph\u001b[0m      │\n",
            "│ \u001b[38;5;226m     `-’     \u001b[0m 6 mi\u001b[0m           │ \u001b[38;5;226m     `-’     \u001b[0m 6 mi\u001b[0m           │ \u001b[38;5;240;1m (___.__)__) \u001b[0m 6 mi\u001b[0m           │ \u001b[38;5;226m   /\u001b[38;5;250m(___(__) \u001b[0m 6 mi\u001b[0m           │\n",
            "│ \u001b[38;5;226m    /   \\    \u001b[0m 0.0 in | 0%\u001b[0m    │ \u001b[38;5;226m    /   \\    \u001b[0m 0.0 in | 0%\u001b[0m    │               0.0 in | 0%\u001b[0m    │               0.0 in | 0%\u001b[0m    │\n",
            "└──────────────────────────────┴──────────────────────────────┴──────────────────────────────┴──────────────────────────────┘\n",
            "                                                       ┌─────────────┐                                                       \n",
            "┌──────────────────────────────┬───────────────────────┤  Sat 14 Dec ├───────────────────────┬──────────────────────────────┐\n",
            "│            Morning           │             Noon      └──────┬──────┘     Evening           │             Night            │\n",
            "├──────────────────────────────┼──────────────────────────────┼──────────────────────────────┼──────────────────────────────┤\n",
            "│               Overcast       │ \u001b[38;5;226m   \\  /\u001b[0m       Partly Cloudy  │ \u001b[38;5;226m   \\  /\u001b[0m       Partly Cloudy  │               Overcast       │\n",
            "│ \u001b[38;5;240;1m     .--.    \u001b[0m \u001b[38;5;051m30\u001b[0m(\u001b[38;5;045m23\u001b[0m) °F\u001b[0m      │ \u001b[38;5;226m _ /\"\"\u001b[38;5;250m.-.    \u001b[0m \u001b[38;5;050m32\u001b[0m(\u001b[38;5;045m24\u001b[0m) °F\u001b[0m      │ \u001b[38;5;226m _ /\"\"\u001b[38;5;250m.-.    \u001b[0m \u001b[38;5;050m+33\u001b[0m(\u001b[38;5;051m30\u001b[0m) °F\u001b[0m     │ \u001b[38;5;240;1m     .--.    \u001b[0m \u001b[38;5;050m32\u001b[0m(\u001b[38;5;051m28\u001b[0m) °F\u001b[0m      │\n",
            "│ \u001b[38;5;240;1m  .-(    ).  \u001b[0m \u001b[1m↙\u001b[0m \u001b[38;5;154m5\u001b[0m-\u001b[38;5;190m7\u001b[0m mph\u001b[0m      │ \u001b[38;5;226m   \\_\u001b[38;5;250m(   ).  \u001b[0m \u001b[1m←\u001b[0m \u001b[38;5;154m5\u001b[0m-\u001b[38;5;190m6\u001b[0m mph\u001b[0m      │ \u001b[38;5;226m   \\_\u001b[38;5;250m(   ).  \u001b[0m \u001b[1m←\u001b[0m \u001b[38;5;154m4\u001b[0m-\u001b[38;5;226m8\u001b[0m mph\u001b[0m      │ \u001b[38;5;240;1m  .-(    ).  \u001b[0m \u001b[1m←\u001b[0m \u001b[38;5;154m4\u001b[0m-\u001b[38;5;226m9\u001b[0m mph\u001b[0m      │\n",
            "│ \u001b[38;5;240;1m (___.__)__) \u001b[0m 6 mi\u001b[0m           │ \u001b[38;5;226m   /\u001b[38;5;250m(___(__) \u001b[0m 6 mi\u001b[0m           │ \u001b[38;5;226m   /\u001b[38;5;250m(___(__) \u001b[0m 6 mi\u001b[0m           │ \u001b[38;5;240;1m (___.__)__) \u001b[0m 6 mi\u001b[0m           │\n",
            "│               0.0 in | 0%\u001b[0m    │               0.0 in | 0%\u001b[0m    │               0.0 in | 0%\u001b[0m    │               0.0 in | 0%\u001b[0m    │\n",
            "└──────────────────────────────┴──────────────────────────────┴──────────────────────────────┴──────────────────────────────┘\n",
            "Location: Washington, District of Columbia, United States of America [38.8949549,-77.0366455]\n",
            "\n",
            "Follow \u001b[46m\u001b[30m@igor_chubin\u001b[0m for wttr.in updates\n",
            "\n"
          ]
        }
      ],
      "source": [
        "print(res.text)"
      ]
    }
  ],
  "metadata": {
    "kernelspec": {
      "display_name": "Python 3 (ipykernel)",
      "language": "python",
      "name": "python3"
    },
    "language_info": {
      "codemirror_mode": {
        "name": "ipython",
        "version": 3
      },
      "file_extension": ".py",
      "mimetype": "text/x-python",
      "name": "python",
      "nbconvert_exporter": "python",
      "pygments_lexer": "ipython3",
      "version": "3.12.6"
    },
    "colab": {
      "provenance": [],
      "include_colab_link": true
    }
  },
  "nbformat": 4,
  "nbformat_minor": 5
}